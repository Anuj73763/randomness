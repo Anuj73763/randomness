{
 "cells": [
  {
   "cell_type": "code",
   "execution_count": null,
   "metadata": {},
   "outputs": [],
   "source": [
    "# Getting Python ready\n",
    "from scipy.stats import norm\n",
    "import matplotlib.pyplot as plt\n",
    "import numpy as np\n",
    "#from ipynb.fs.full.Bernoulli import aBernoulliExperiment\n",
    "import math\n",
    "import textwrap\n",
    "import ipynb.fs.defs.Bernoulli as bern\n"
   ]
  },
  {
   "attachments": {},
   "cell_type": "markdown",
   "metadata": {},
   "source": [
    "We will now create the procedure for an experiment whose outcomes are modeled by a Binomial RV. The function is\n",
    "\n",
    "    aBinomialExperiment(randomNumGen, binomialParam_n=5, binomialParam_p=0.5)\n",
    "\n",
    "As we would expect, the experiment involves binomialParam_n sub-experiments, where each sub-experiment's outcome is modeled by a Bernoulli(binomialParam_p) RV. The outcomes of the binomialParam_n Bernoulli RVs are independent.\n",
    "\n",
    "The outcomes modeled by the Binomial RV are the number of trials that resulted in a 1."
   ]
  },
  {
   "cell_type": "code",
   "execution_count": null,
   "metadata": {},
   "outputs": [],
   "source": [
    "def aBinomialExperiment(randomNumGen, binomialParam_n=5, binomialParam_p=0.5, profitLoss_Bern = [1,0]):\n",
    "    \n",
    "    outcomesOfBernTrails = bern.aBernoulliExperiment(randomNumGen, bernoulliParam_p=binomialParam_p, numRepeatsOfExp = 1, numTrialsInAnExp = binomialParam_n, profitLoss = profitLoss_Bern)\n",
    "\n",
    "    #print(outcomesOfBernTrails)\n",
    "\n",
    "    outcomeOfBinomialExp = np.sum(outcomesOfBernTrails)\n",
    "\n",
    "    #print(outcomeOfBinomialExp)\n",
    "\n",
    "    return outcomeOfBinomialExp"
   ]
  },
  {
   "attachments": {},
   "cell_type": "markdown",
   "metadata": {},
   "source": [
    "We perform one experiment and record the outcome, which is the number of trials that resulted in a 1."
   ]
  },
  {
   "cell_type": "code",
   "execution_count": null,
   "metadata": {},
   "outputs": [],
   "source": [
    "v_binomial_n = 100000\n",
    "v_binomial_p = 0.5\n",
    "\n",
    "outcomeOfBinomialExp = aBinomialExperiment(np.random.default_rng(718), v_binomial_n, v_binomial_p, [1,0])#, [-10,10])\n",
    "\n",
    "print(outcomeOfBinomialExp)"
   ]
  },
  {
   "cell_type": "code",
   "execution_count": null,
   "metadata": {},
   "outputs": [],
   "source": [
    "fig1, (ax1) = plt.subplots(nrows=1, ncols=1, sharex=True)\n",
    "#histVal = ax1.hist(outcomeOfBinomialExp + 1, bins=range(0,v_binomial_n+1), density=True, align='left')\n",
    "\n",
    "histVal = ax1.hist(outcomeOfBinomialExp + 1, density=False, align='left')\n",
    "\n",
    "print(\"The histogram values are:\", histVal)\n",
    "\n",
    "ax1.set_xscale(\"linear\")\n",
    "\n",
    "ax1.set_xlabel(\"x (From Binomial Experiment)\")\n",
    "ax1.set_ylabel(\"Frequency (%) of Unique x\")\n",
    "#fig1.set_label(\"No of Trials of Bern Exp is \" + str(v_numTrialsInAnExp))"
   ]
  },
  {
   "attachments": {},
   "cell_type": "markdown",
   "metadata": {},
   "source": [
    "We perform many experiments and record the outcome for each experiment. Specifically, we record the number of trials that resulted in a 1 in the experiment."
   ]
  },
  {
   "cell_type": "code",
   "execution_count": null,
   "metadata": {},
   "outputs": [],
   "source": [
    "numberOfBinomialExps = 100\n",
    "\n",
    "v_binomial_n = 10\n",
    "v_binomial_p = 0.5\n",
    "\n",
    "rng = np.random.default_rng(7381638)\n",
    "\n",
    "outcomeOfBinomialExps = np.ndarray((numberOfBinomialExps,1))\n",
    "\n",
    "for i in range(numberOfBinomialExps):\n",
    "    outcomeOfBinomialExps[i,:] = aBinomialExperiment(rng, v_binomial_n, v_binomial_p, [1,0])\n",
    "\n",
    "#print(outcomeOfBinomialExps[:,:])\n",
    "#print(outcomeOfBinomialExps[:,:]/v_binomial_n)"
   ]
  },
  {
   "cell_type": "code",
   "execution_count": null,
   "metadata": {},
   "outputs": [],
   "source": [
    "fig, ax = plt.subplots(nrows=2, ncols=1, sharex=False)\n",
    "\n",
    "#histVal = np.histogram(outcomeOfBinomialExps, bins=range(0,v_binomial_n+1), density=True)\n",
    "\n",
    "histVal = np.histogram(outcomeOfBinomialExps, density=False)\n",
    "\n",
    "#histVal = ax1.hist(outcomeOfBinomialExps, bins=range(0,v_binomial_n+1), density=True, align='left')\n",
    "# print(\"The histogram values are:\", histhistVal[0].sizeVal[1])\n",
    "# print(\"The histogram values are:\", histVal[0])\n",
    "# print(histVal[0].size)\n",
    "\n",
    "\n",
    "histVal[0].resize(histVal[1].shape)\n",
    "\n",
    "# print(histVal[0])\n",
    "# print(histVal[0][0:histVal[0].size])\n",
    "\n",
    "histVal[0][1:histVal[0].size] = histVal[0][0:histVal[0].size - 1]\n",
    "\n",
    "print(\"The histogram[1] values are:\", histVal[1])\n",
    "print(\"The histogram[0] values are:\", histVal[0])\n",
    "\n",
    "# print(histVal[0])\n",
    "# print(histVal[0].size)\n",
    "\n",
    "ax[0].bar(histVal[1]/v_binomial_n, histVal[0]/numberOfBinomialExps, width = 0.001)\n",
    "# ax1.set_xscale(\"linear\")\n",
    "ax[0].set_xlabel(\"Number of successes as a fraction of total trials (Binomial Experiment)\")\n",
    "ax[0].set_ylabel(textwrap.fill(\"Frequency of Number of Successes\", 10))\n",
    "\n",
    "ax[1].bar(histVal[1], histVal[0]/numberOfBinomialExps, width = 0.1)\n",
    "# ax1.set_xscale(\"linear\")\n",
    "ax[1].set_xlabel(\"Number of successes as a fraction of total trials (Binomial Experiment)\")\n",
    "ax[1].set_ylabel(textwrap.fill(\"Frequency of Number of Successes\", 10))\n",
    "\n",
    "plt.tight_layout(h_pad = 5.0)"
   ]
  },
  {
   "attachments": {},
   "cell_type": "markdown",
   "metadata": {},
   "source": [
    "Suppose we map our Bernoulli outcomes to the set {-10,10}. Specifically, we map 0 to -10 and 1 to 10. You may think of each Bernoulli trial as a gamble in a casino that results in a profit of 10 Rupees with probability p and a loss of -10 Rupees otherwise. We will simulate the distribution of the total profit at the end of playing n gambles. The numberOfBinomialExps below may be though of as the number of gamblers."
   ]
  },
  {
   "cell_type": "code",
   "execution_count": 54,
   "metadata": {},
   "outputs": [
    {
     "name": "stdout",
     "output_type": "stream",
     "text": [
      "100\n"
     ]
    }
   ],
   "source": [
    "numberOfBinomialExps = [100, 100]\n",
    "\n",
    "v_binomial_n = [100000, 1000000]\n",
    "v_binomial_p = 0.5\n",
    "sizeofbet = [10, 1]\n",
    "\n",
    "rng = np.random.default_rng(7381638)\n",
    "\n",
    "print(numberOfBinomialExps[0])\n",
    "\n",
    "outcomeOfBinomialExps_largeBet = np.ndarray((numberOfBinomialExps[0],1))\n",
    "\n",
    "for i in range(numberOfBinomialExps[0]):\n",
    "    outcomeOfBinomialExps_largeBet[i,:] = aBinomialExperiment(rng, v_binomial_n[0], v_binomial_p, [sizeofbet[0],-1 * sizeofbet[0]])\n",
    "\n",
    "outcomeOfBinomialExps_smallBet = np.ndarray((numberOfBinomialExps[1],1))\n",
    "\n",
    "for i in range(numberOfBinomialExps[1]):\n",
    "    outcomeOfBinomialExps_smallBet[i,:] = aBinomialExperiment(rng, v_binomial_n[1], v_binomial_p, [sizeofbet[1],-1 * sizeofbet[1]])\n",
    "\n",
    "\n",
    "\n",
    "#print(outcomeOfBinomialExps[:,:])\n",
    "#print(outcomeOfBinomialExps[:,:]/v_binomial_n)"
   ]
  },
  {
   "cell_type": "code",
   "execution_count": 68,
   "metadata": {},
   "outputs": [
    {
     "name": "stdout",
     "output_type": "stream",
     "text": [
      "The histogram[1] values are: [-6500. -5090. -3680. -2270.  -860.   550.  1960.  3370.  4780.  6190.\n",
      "  7600.]\n",
      "The histogram[0] values are: [ 4  4  7 12 17 15 21 11  6  5  2]\n"
     ]
    },
    {
     "data": {
      "image/png": "[encoded data removed]",
      "text/plain": [
       "<Figure size 640x480 with 4 Axes>"
      ]
     },
     "metadata": {},
     "output_type": "display_data"
    }
   ],
   "source": [
    "fig, ax = plt.subplots(nrows=2, ncols=2, sharex=False)\n",
    "\n",
    "#histVal = np.histogram(outcomeOfBinomialExps, bins=range(0,v_binomial_n+1), density=True)\n",
    "\n",
    "histVal = np.histogram(outcomeOfBinomialExps_largeBet, density=False)\n",
    "\n",
    "#histVal = ax1.hist(outcomeOfBinomialExps, bins=range(0,v_binomial_n+1), density=True, align='left')\n",
    "# print(\"The histogram values are:\", histhistVal[0].sizeVal[1])\n",
    "# print(\"The histogram values are:\", histVal[0])\n",
    "# print(histVal[0].size)\n",
    "\n",
    "\n",
    "histVal[0].resize(histVal[1].shape)\n",
    "\n",
    "# print(histVal[0])\n",
    "# print(histVal[0][0:histVal[0].size])\n",
    "\n",
    "histVal[0][1:histVal[0].size] = histVal[0][0:histVal[0].size - 1]\n",
    "\n",
    "print(\"The histogram[1] values are:\", histVal[1])\n",
    "print(\"The histogram[0] values are:\", histVal[0])\n",
    "\n",
    "# print(histVal[0])\n",
    "# print(histVal[0].size)\n",
    "\n",
    "ax[0][0].bar(histVal[1]/v_binomial_n[0], histVal[0]/numberOfBinomialExps[0], width = .001)\n",
    "ax[0][0].set_xlabel(textwrap.fill(\"Average profit per bet (large bets per gamble)\",20))\n",
    "ax[0][0].set_ylabel(textwrap.fill(\"Frequency of Occurance\", 10))\n",
    "\n",
    "ax[1][0].bar(histVal[1], histVal[0]/numberOfBinomialExps[0], width = 500)\n",
    "ax[1][0].set_xlabel(textwrap.fill(\"Average profit per gambler (small bets per gamble)\",20))\n",
    "ax[1][0].set_ylabel(textwrap.fill(\"Frequency of Occurance\", 10))\n",
    "\n",
    "\n",
    "histVal = np.histogram(outcomeOfBinomialExps_smallBet, density=False)\n",
    "histVal[0].resize(histVal[1].shape)\n",
    "histVal[0][1:histVal[0].size] = histVal[0][0:histVal[0].size - 1]\n",
    "\n",
    "ax[0][1].bar(histVal[1]/v_binomial_n[1], histVal[0]/numberOfBinomialExps[1], width = .0001)\n",
    "ax[0][1].set_xlabel(textwrap.fill(\"Average profit per bet (small bets per gamble)\",20))\n",
    "ax[0][1].set_ylabel(textwrap.fill(\"Frequency of Occurance\", 10))\n",
    "\n",
    "ax[1][1].bar(histVal[1], histVal[0]/numberOfBinomialExps[1], width = 100)\n",
    "ax[1][1].set_xlabel(textwrap.fill(\"Average profit per gambler (small bets per gamble)\",20))\n",
    "ax[1][1].set_ylabel(textwrap.fill(\"Frequency of Occurance\", 10))\n",
    "\n",
    "plt.tight_layout(h_pad = 5.0)"
   ]
  },
  {
   "attachments": {},
   "cell_type": "markdown",
   "metadata": {},
   "source": [
    "Consider a country where any randomly chosen person is rich with probability p. The country has 30 states. The population of states is distributed as a Poisson RV with mean 1e5 (1 lakh)"
   ]
  }
 ],
 "metadata": {
  "kernelspec": {
   "display_name": "base",
   "language": "python",
   "name": "python3"
  },
  "language_info": {
   "codemirror_mode": {
    "name": "ipython",
    "version": 3
   },
   "file_extension": ".py",
   "mimetype": "text/x-python",
   "name": "python",
   "nbconvert_exporter": "python",
   "pygments_lexer": "ipython3",
   "version": "3.10.9"
  },
  "orig_nbformat": 4
 },
 "nbformat": 4,
 "nbformat_minor": 2
}
